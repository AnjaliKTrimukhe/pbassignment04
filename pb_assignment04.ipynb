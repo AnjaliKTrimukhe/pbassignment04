{
 "cells": [
  {
   "cell_type": "raw",
   "id": "923eb1c9",
   "metadata": {},
   "source": [
    "1. What exactly is []?\n",
    "Ans:\n",
    "This is a list value that contains no items."
   ]
  },
  {
   "cell_type": "raw",
   "id": "9535e8f1",
   "metadata": {},
   "source": [
    "2. In a list of values stored in a variable called spam, how would you assign the value 'hello' as the third value? (Assume [2, 4, 6, 8, 10] are in spam.)\n",
    "Let's pretend the spam includes the list ['a', 'b', 'c', 'd'] for the next three queries.\n",
    "Ans:"
   ]
  },
  {
   "cell_type": "code",
   "execution_count": 5,
   "id": "3a3460c0",
   "metadata": {},
   "outputs": [],
   "source": [
    "spam= ['a', 'b', 'c', 'd']"
   ]
  },
  {
   "cell_type": "code",
   "execution_count": 7,
   "id": "b1987b94",
   "metadata": {},
   "outputs": [
    {
     "name": "stdout",
     "output_type": "stream",
     "text": [
      "['a', 'b', 'hello', 'd']\n"
     ]
    }
   ],
   "source": [
    "spam[2] = 'hello' \n",
    "print(spam)"
   ]
  },
  {
   "cell_type": "raw",
   "id": "ba0d04b8",
   "metadata": {},
   "source": [
    "3. What is the value of spam[int(int('3' * 2) / 11)]?\n",
    "Ans: "
   ]
  },
  {
   "cell_type": "code",
   "execution_count": 8,
   "id": "1de1d0d9",
   "metadata": {},
   "outputs": [
    {
     "data": {
      "text/plain": [
       "'d'"
      ]
     },
     "execution_count": 8,
     "metadata": {},
     "output_type": "execute_result"
    }
   ],
   "source": [
    "spam[int(int('3' * 2) / 11)]"
   ]
  },
  {
   "cell_type": "raw",
   "id": "0f9f40ab",
   "metadata": {},
   "source": [
    "4. What is the value of spam[-1]?\n",
    "Ans:"
   ]
  },
  {
   "cell_type": "code",
   "execution_count": 9,
   "id": "90c77535",
   "metadata": {},
   "outputs": [
    {
     "data": {
      "text/plain": [
       "'d'"
      ]
     },
     "execution_count": 9,
     "metadata": {},
     "output_type": "execute_result"
    }
   ],
   "source": [
    "spam[-1]"
   ]
  },
  {
   "cell_type": "raw",
   "id": "0332b82f",
   "metadata": {},
   "source": [
    "5. What is the value of spam[:2]?\n",
    "Let's pretend bacon has the list [3.14, 'cat,' 11, 'cat,' True] for the next three questions.\n",
    "Ans:\n",
    "['a', 'b']"
   ]
  },
  {
   "cell_type": "raw",
   "id": "21b3e9a9",
   "metadata": {},
   "source": [
    "6. What is the value of bacon.index('cat')?\n",
    "Ans:\n",
    "1"
   ]
  },
  {
   "cell_type": "raw",
   "id": "0d5fe1eb",
   "metadata": {},
   "source": [
    "7. How does bacon.append(99) change the look of the list value in bacon?\n",
    "Ans:\n",
    "[3.14, 'cat', 11, 'cat', True, 99]"
   ]
  },
  {
   "cell_type": "raw",
   "id": "84bc545e",
   "metadata": {},
   "source": [
    "8. How does bacon.remove('cat') change the look of the list in bacon?\n",
    "Ans:\n",
    "[3.14, 11, 'cat', True]"
   ]
  },
  {
   "cell_type": "raw",
   "id": "8c52f962",
   "metadata": {},
   "source": [
    "9. What are the list concatenation and list replication operators?\n",
    "Ans:\n",
    "The operator for list concatenation is +, while the operator for replication is *. "
   ]
  },
  {
   "cell_type": "raw",
   "id": "15a78a92",
   "metadata": {},
   "source": [
    "10. What is difference between the list methods append() and insert()?\n",
    "Ans:\n",
    "Append() will add values only to the end of a list.\n",
    "Insert() can add them anywhere in the list."
   ]
  },
  {
   "cell_type": "raw",
   "id": "3b2690d8",
   "metadata": {},
   "source": [
    "11. What are the two methods for removing items from a list?\n",
    "Ans:\n",
    "The del statement and the remove() list method are two ways to remove values from a list."
   ]
  },
  {
   "cell_type": "raw",
   "id": "77eedacf",
   "metadata": {},
   "source": [
    "12. Describe how list values and string values are identical.\n",
    "Ans:\n",
    "Both lists and strings can be passed to len(), have indexes and slices, be used in for loops, be concatenated or replicated, and be used with the in and not in operators."
   ]
  },
  {
   "cell_type": "raw",
   "id": "7c065b57",
   "metadata": {},
   "source": [
    "13. What's the difference between tuples and lists?\n",
    "Ans:\n",
    "Lists\n",
    "Lists are mutable\n",
    "They can have values added, removed, or changed. \n",
    "\n",
    "Tuples\n",
    "Tuples are immutable \n",
    "They cannot be changed at all. \n",
    "\n",
    "Also, tuples are written using parentheses, ( and ), while lists use the square brackets, [ and ]."
   ]
  },
  {
   "cell_type": "raw",
   "id": "904d4368",
   "metadata": {},
   "source": [
    "14. How do you type a tuple value that only contains the integer 42?\n",
    "Ans:\n",
    "(42,)"
   ]
  },
  {
   "cell_type": "raw",
   "id": "a6577d13",
   "metadata": {},
   "source": [
    "15. How do you get a list value's tuple form? How do you get a tuple value's list form?\n",
    "Ans:\n",
    "The tuple() and list() functions, respectively"
   ]
  },
  {
   "cell_type": "raw",
   "id": "aee7d68a",
   "metadata": {},
   "source": [
    "16. Variables that \"contain\" list values are not necessarily lists themselves. Instead, what do they contain?\n",
    "Ans:\n",
    "They contain references to list values."
   ]
  },
  {
   "cell_type": "raw",
   "id": "d69da3bd",
   "metadata": {},
   "source": [
    "17. How do you distinguish between copy.copy() and copy.deepcopy()?\n",
    "Ans:\n",
    "The copy.copy() function will do a shallow copy of a list, while the copy.deepcopy() function will do a deep copy of a list. That is, only copy.deepcopy() will duplicate any lists inside the list."
   ]
  }
 ],
 "metadata": {
  "kernelspec": {
   "display_name": "Python 3 (ipykernel)",
   "language": "python",
   "name": "python3"
  },
  "language_info": {
   "codemirror_mode": {
    "name": "ipython",
    "version": 3
   },
   "file_extension": ".py",
   "mimetype": "text/x-python",
   "name": "python",
   "nbconvert_exporter": "python",
   "pygments_lexer": "ipython3",
   "version": "3.9.7"
  }
 },
 "nbformat": 4,
 "nbformat_minor": 5
}
